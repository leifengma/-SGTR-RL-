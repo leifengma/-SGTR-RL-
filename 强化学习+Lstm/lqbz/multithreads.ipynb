{
 "cells": [
  {
   "cell_type": "code",
   "execution_count": 2,
   "metadata": {
    "collapsed": true,
    "pycharm": {
     "name": "#%%\n"
    }
   },
   "outputs": [
    {
     "name": "stdout",
     "output_type": "stream",
     "text": [
      "now is :9\r"
     ]
    }
   ],
   "source": [
    "import threading\n",
    "\n",
    "par=[]\n",
    "def base_func(par):\n",
    "\tpass\n",
    "\n",
    "def multi_thread():\n",
    "\tthreads=[]\n",
    "\tfor i in par:\n",
    "\t\tthreads.append(\n",
    "\t\t\tthreading.Thread(target=base_func,args=(i,))\n",
    "\t\t)\n",
    "\n",
    "\tfor thread in threads:\n",
    "\t\tthread.start()\n",
    "\n",
    "\tfor thread in threads:\n",
    "\t\tthread.join()\n",
    "\n",
    "import time\n",
    "for i in range(10):\n",
    "    time.sleep(1)\n",
    "    print(f\"now is :{i}\", end='\\r')"
   ]
  }
 ],
 "metadata": {
  "kernelspec": {
   "display_name": "Python 3",
   "language": "python",
   "name": "python3"
  },
  "language_info": {
   "codemirror_mode": {
    "name": "ipython",
    "version": 2
   },
   "file_extension": ".py",
   "mimetype": "text/x-python",
   "name": "python",
   "nbconvert_exporter": "python",
   "pygments_lexer": "ipython2",
   "version": "2.7.6"
  }
 },
 "nbformat": 4,
 "nbformat_minor": 0
}